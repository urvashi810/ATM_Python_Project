{
 "cells": [
  {
   "cell_type": "code",
   "execution_count": null,
   "id": "f56485a8-b7fe-4a04-9b2c-7963d06124a9",
   "metadata": {},
   "outputs": [
    {
     "name": "stdout",
     "output_type": "stream",
     "text": [
      "Choose:\n",
      "      1-Withdraw\n",
      "      2-Deposit\n",
      "      3-Change PIN\n",
      "      4-Show Balance\n",
      "      \n"
     ]
    }
   ],
   "source": [
    "print(\"\"\"Choose:\n",
    "      1-Withdraw\n",
    "      2-Deposit\n",
    "      3-Change PIN\n",
    "      4-Show Balance\n",
    "      \"\"\")\n",
    "Op=int(input(\"Enter the Option\"))\n",
    "Bal=1000\n",
    "Pin=2002\n",
    "#Withdraw\n",
    "if(Op==1):\n",
    "    Chk_Pin=int(input(\"Enter the Pin\"))\n",
    "    if(Pin==Chk_Pin):\n",
    "        Amt=int(input(\"Enter the Amount:\"))\n",
    "        if(Amt>Bal):\n",
    "            print(\"Sorry No Money\")\n",
    "        elif(Amt<0):\n",
    "            print(\"Only Positive Number To be entered\")\n",
    "        else:\n",
    "            Bal-=Amt\n",
    "            print(f\"Amount debited is {Amt} and Your Balance is {Bal}\")\n",
    "    else:\n",
    "        print(\"Wrong Pin :(\")\n",
    "#Deposit\n",
    "if(Op==2):\n",
    "    Chk_Pin=int(input(\"Enter the Pin\"))\n",
    "    if(Pin==Chk_Pin):\n",
    "        Amt=int(input(\"Enter the Amount:\"))\n",
    "        if(Amt<0):\n",
    "            print(\"Only Positive Number to be entered\")\n",
    "        else:\n",
    "            Bal+=Amt\n",
    "            print(f\"Amount deposited is {Amt} and your Balance is {Bal}\")\n",
    "    else:\n",
    "        print(\"Wrong Pin :(\")\n",
    "#Change PIN\n",
    "if(Op==3):\n",
    "    Chk_Pin=int(input(\"Enter the Pin\"))\n",
    "    if(Pin==Chk_Pin):\n",
    "        New_Pin=int(input(\"Enter New Pin:\"))\n",
    "        if(New_Pin>0000):\n",
    "            print(\"Only Positive and 4 number is Valid\")\n",
    "        else:\n",
    "            #New_Pin==Pin\n",
    "            #print(\"You can not use older Pin, Try Again\")\n",
    "    #else:\n",
    "            Pin=New_Pin\n",
    "            print(f\"Pin Successfully got changed and New Pin is {New_Pin}\")\n",
    "    else:\n",
    "        print(\"Wrong Pin :(\")\n",
    "#Check Balance\n",
    "if(Op==4):\n",
    "    Chk_Pin=int(input(\"Enter the Pin\"))\n",
    "    if(Pin==Chk_Pin):\n",
    "        CBal=Bal\n",
    "        print(f\"Your Current Balanace is {CBal}\")\n",
    "    else:\n",
    "        print(\"Wrong Pin :(\")"
   ]
  }
 ],
 "metadata": {
  "kernelspec": {
   "display_name": "Python [conda env:base] *",
   "language": "python",
   "name": "conda-base-py"
  },
  "language_info": {
   "codemirror_mode": {
    "name": "ipython",
    "version": 3
   },
   "file_extension": ".py",
   "mimetype": "text/x-python",
   "name": "python",
   "nbconvert_exporter": "python",
   "pygments_lexer": "ipython3",
   "version": "3.12.7"
  }
 },
 "nbformat": 4,
 "nbformat_minor": 5
}
